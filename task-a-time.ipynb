{
 "cells": [
  {
   "cell_type": "markdown",
   "metadata": {},
   "source": [
    "## 1. Загрузка и предобработка данных"
   ]
  },
  {
   "cell_type": "code",
   "execution_count": 1,
   "metadata": {
    "_cell_guid": "b1076dfc-b9ad-4769-8c92-a6c4dae69d19",
    "_uuid": "8f2839f25d086af736a60e9eeb907d3b93b6e0e5"
   },
   "outputs": [],
   "source": [
    "import numpy as np\n",
    "import pandas as pd\n",
    "import matplotlib.pyplot as plt\n",
    "from scipy import stats as st"
   ]
  },
  {
   "cell_type": "code",
   "execution_count": 2,
   "metadata": {
    "_cell_guid": "79c7e3d0-c299-4dcb-8224-4455121ee9b0",
    "_uuid": "d629ff2d2480ee46fbb7e2d37f6b5fab8052498a"
   },
   "outputs": [
    {
     "data": {
      "text/html": [
       "<div>\n",
       "<style scoped>\n",
       "    .dataframe tbody tr th:only-of-type {\n",
       "        vertical-align: middle;\n",
       "    }\n",
       "\n",
       "    .dataframe tbody tr th {\n",
       "        vertical-align: top;\n",
       "    }\n",
       "\n",
       "    .dataframe thead th {\n",
       "        text-align: right;\n",
       "    }\n",
       "</style>\n",
       "<table border=\"1\" class=\"dataframe\">\n",
       "  <thead>\n",
       "    <tr style=\"text-align: right;\">\n",
       "      <th></th>\n",
       "      <th>worker</th>\n",
       "      <th>project_id</th>\n",
       "      <th>task_id</th>\n",
       "      <th>resolution_type</th>\n",
       "      <th>start_ts</th>\n",
       "      <th>end_ts</th>\n",
       "    </tr>\n",
       "  </thead>\n",
       "  <tbody>\n",
       "    <tr>\n",
       "      <th>0</th>\n",
       "      <td>login1</td>\n",
       "      <td>1</td>\n",
       "      <td>task_1</td>\n",
       "      <td>resolution_1</td>\n",
       "      <td>1576865064</td>\n",
       "      <td>1576867011</td>\n",
       "    </tr>\n",
       "    <tr>\n",
       "      <th>1</th>\n",
       "      <td>login1</td>\n",
       "      <td>2</td>\n",
       "      <td>task_2</td>\n",
       "      <td>resolution_1</td>\n",
       "      <td>1576837986</td>\n",
       "      <td>1576838385</td>\n",
       "    </tr>\n",
       "    <tr>\n",
       "      <th>2</th>\n",
       "      <td>login1</td>\n",
       "      <td>1</td>\n",
       "      <td>task_3</td>\n",
       "      <td>resolution_1</td>\n",
       "      <td>1576078746</td>\n",
       "      <td>1576079378</td>\n",
       "    </tr>\n",
       "  </tbody>\n",
       "</table>\n",
       "</div>"
      ],
      "text/plain": [
       "   worker  project_id task_id resolution_type    start_ts      end_ts\n",
       "0  login1           1  task_1    resolution_1  1576865064  1576867011\n",
       "1  login1           2  task_2    resolution_1  1576837986  1576838385\n",
       "2  login1           1  task_3    resolution_1  1576078746  1576079378"
      ]
     },
     "execution_count": 2,
     "metadata": {},
     "output_type": "execute_result"
    }
   ],
   "source": [
    "tt = pd.read_csv('/home/bold/task_about_time.tsv', sep='\\t')\n",
    "tt.head(3)"
   ]
  },
  {
   "cell_type": "markdown",
   "metadata": {},
   "source": [
    "Преобразование timestamp в datetime и вычисление трудоёмкости (длительности) задания"
   ]
  },
  {
   "cell_type": "code",
   "execution_count": 3,
   "metadata": {},
   "outputs": [],
   "source": [
    "tt['start_ts'] = pd.to_datetime(tt['start_ts'],unit='s')\n",
    "tt['end_ts'] = pd.to_datetime(tt['end_ts'],unit='s')\n",
    "tt['dur'] = tt['end_ts'] - tt['start_ts']\n",
    "tt['dur'] = tt['dur'].dt.seconds"
   ]
  },
  {
   "cell_type": "markdown",
   "metadata": {},
   "source": [
    "## 2. EDA"
   ]
  },
  {
   "cell_type": "markdown",
   "metadata": {},
   "source": [
    "Формирование таблицы характеристик набора данных в разрезе категориальных признаков"
   ]
  },
  {
   "cell_type": "code",
   "execution_count": 4,
   "metadata": {},
   "outputs": [
    {
     "data": {
      "text/html": [
       "<div>\n",
       "<style scoped>\n",
       "    .dataframe tbody tr th:only-of-type {\n",
       "        vertical-align: middle;\n",
       "    }\n",
       "\n",
       "    .dataframe tbody tr th {\n",
       "        vertical-align: top;\n",
       "    }\n",
       "\n",
       "    .dataframe thead th {\n",
       "        text-align: right;\n",
       "    }\n",
       "</style>\n",
       "<table border=\"1\" class=\"dataframe\">\n",
       "  <thead>\n",
       "    <tr style=\"text-align: right;\">\n",
       "      <th></th>\n",
       "      <th>project_1</th>\n",
       "      <th>project_2</th>\n",
       "      <th>resolution_1</th>\n",
       "      <th>resolution_2</th>\n",
       "      <th>total</th>\n",
       "    </tr>\n",
       "  </thead>\n",
       "  <tbody>\n",
       "    <tr>\n",
       "      <th>count</th>\n",
       "      <td>3741.000000</td>\n",
       "      <td>1207.000000</td>\n",
       "      <td>4526.000000</td>\n",
       "      <td>422.000000</td>\n",
       "      <td>4948.000000</td>\n",
       "    </tr>\n",
       "    <tr>\n",
       "      <th>mean</th>\n",
       "      <td>1017.978081</td>\n",
       "      <td>969.835957</td>\n",
       "      <td>1052.348431</td>\n",
       "      <td>511.656398</td>\n",
       "      <td>1006.234438</td>\n",
       "    </tr>\n",
       "    <tr>\n",
       "      <th>std</th>\n",
       "      <td>1327.397732</td>\n",
       "      <td>1208.320154</td>\n",
       "      <td>1286.601334</td>\n",
       "      <td>1334.244180</td>\n",
       "      <td>1299.402243</td>\n",
       "    </tr>\n",
       "    <tr>\n",
       "      <th>min</th>\n",
       "      <td>6.000000</td>\n",
       "      <td>10.000000</td>\n",
       "      <td>10.000000</td>\n",
       "      <td>6.000000</td>\n",
       "      <td>6.000000</td>\n",
       "    </tr>\n",
       "    <tr>\n",
       "      <th>25%</th>\n",
       "      <td>208.000000</td>\n",
       "      <td>261.000000</td>\n",
       "      <td>268.250000</td>\n",
       "      <td>22.000000</td>\n",
       "      <td>221.000000</td>\n",
       "    </tr>\n",
       "    <tr>\n",
       "      <th>50%</th>\n",
       "      <td>521.000000</td>\n",
       "      <td>533.000000</td>\n",
       "      <td>576.000000</td>\n",
       "      <td>54.000000</td>\n",
       "      <td>526.000000</td>\n",
       "    </tr>\n",
       "    <tr>\n",
       "      <th>75%</th>\n",
       "      <td>1218.000000</td>\n",
       "      <td>1173.000000</td>\n",
       "      <td>1260.750000</td>\n",
       "      <td>185.500000</td>\n",
       "      <td>1203.500000</td>\n",
       "    </tr>\n",
       "    <tr>\n",
       "      <th>max</th>\n",
       "      <td>7200.000000</td>\n",
       "      <td>7038.000000</td>\n",
       "      <td>7200.000000</td>\n",
       "      <td>7144.000000</td>\n",
       "      <td>7200.000000</td>\n",
       "    </tr>\n",
       "  </tbody>\n",
       "</table>\n",
       "</div>"
      ],
      "text/plain": [
       "         project_1    project_2  resolution_1  resolution_2        total\n",
       "count  3741.000000  1207.000000   4526.000000    422.000000  4948.000000\n",
       "mean   1017.978081   969.835957   1052.348431    511.656398  1006.234438\n",
       "std    1327.397732  1208.320154   1286.601334   1334.244180  1299.402243\n",
       "min       6.000000    10.000000     10.000000      6.000000     6.000000\n",
       "25%     208.000000   261.000000    268.250000     22.000000   221.000000\n",
       "50%     521.000000   533.000000    576.000000     54.000000   526.000000\n",
       "75%    1218.000000  1173.000000   1260.750000    185.500000  1203.500000\n",
       "max    7200.000000  7038.000000   7200.000000   7144.000000  7200.000000"
      ]
     },
     "execution_count": 4,
     "metadata": {},
     "output_type": "execute_result"
    }
   ],
   "source": [
    "pr1 = tt[tt['project_id'] == 1]['dur'].describe().to_frame()\n",
    "pr1.columns = ['project_1']\n",
    "pr2 = tt[tt['project_id'] == 2]['dur'].describe().to_frame()\n",
    "pr2.columns = ['project_2']\n",
    "\n",
    "res_1 = tt[tt['resolution_type'] == 'resolution_1']['dur'].describe().to_frame()\n",
    "res_1.columns = ['resolution_1']\n",
    "res_2 = tt[tt['resolution_type'] == 'resolution_2']['dur'].describe().to_frame()\n",
    "res_2.columns = ['resolution_2']\n",
    "\n",
    "tot = tt['dur'].describe().to_frame()\n",
    "tot.columns = ['total']\n",
    "\n",
    "des = pr1.join(pr2)\\\n",
    "         .join(res_1)\\\n",
    "         .join(res_2)\\\n",
    "         .join(tot)\n",
    "\n",
    "des"
   ]
  },
  {
   "cell_type": "markdown",
   "metadata": {},
   "source": [
    "Удалений заданий с резолюцией 2, как имеющих признаки выбросов. Их доля в 8,5% позволит считать оставшуюся часть данных репрезентативной."
   ]
  },
  {
   "cell_type": "code",
   "execution_count": 5,
   "metadata": {},
   "outputs": [],
   "source": [
    "tt = tt[tt['resolution_type'] != 'resolution_2']"
   ]
  },
  {
   "cell_type": "code",
   "execution_count": 6,
   "metadata": {},
   "outputs": [
    {
     "data": {
      "image/png": "[encoded data removed]",
      "text/plain": [
       "<Figure size 1440x360 with 2 Axes>"
      ]
     },
     "metadata": {
      "needs_background": "light"
     },
     "output_type": "display_data"
    }
   ],
   "source": [
    "fig, ax = plt.subplots(1,2, figsize = (20,5))\n",
    "\n",
    "tt[tt['project_id'] == 1]['dur'].hist(bins = 100, ax=ax[0])\n",
    "tt[tt['project_id'] == 2]['dur'].hist(bins = 100, ax=ax[0])\n",
    "ax[0].set_title('Распределение длительности в разрезе заданий')\n",
    "ax[0].legend(('project_1', 'project_2'))\n",
    "ax[0].set_xlabel('сек.')\n",
    "ax[0].set_ylabel('количество')\n",
    "\n",
    "tt.groupby('worker')['dur'].count().plot.bar()\n",
    "\n",
    "ax[1].set_title('Количество выполненных заданий по асессорам')\n",
    "ax[1].set_ylabel('количество')\n",
    "\n",
    "plt.show()"
   ]
  },
  {
   "cell_type": "markdown",
   "metadata": {},
   "source": [
    "Данные положительно скошены и длительность проектов распределена одинаково. При этом можно выделить TOP-3 ассесоров по количеству выполненных заданий - login16, login7, login9."
   ]
  },
  {
   "cell_type": "code",
   "execution_count": 7,
   "metadata": {},
   "outputs": [
    {
     "data": {
      "image/png": "[encoded data removed]",
      "text/plain": [
       "<Figure size 1440x360 with 2 Axes>"
      ]
     },
     "metadata": {
      "needs_background": "light"
     },
     "output_type": "display_data"
    }
   ],
   "source": [
    "fig, ax = plt.subplots(1,2, figsize = (20,5))\n",
    "\n",
    "tt[tt['project_id'] == 1][['worker', 'dur']].boxplot(by='worker', rot=45, ax=ax[0])\n",
    "tt[tt['project_id'] == 2][['worker', 'dur']].boxplot(by='worker', rot=45, ax=ax[1])\n",
    "\n",
    "ax[0].set_ylabel('сек.')\n",
    "ax[0].set_title('project_1')\n",
    "ax[1].set_title('project_2')\n",
    "fig.suptitle(\"Диграммы размаха длительности по ассесорам\")\n",
    "\n",
    "plt.show()"
   ]
  },
  {
   "cell_type": "code",
   "execution_count": 8,
   "metadata": {},
   "outputs": [
    {
     "name": "stdout",
     "output_type": "stream",
     "text": [
      "Statistics=1029057.000, p=0.000\n",
      "Нельзя утверждать, что выборки статистически равны\n"
     ]
    }
   ],
   "source": [
    "data1 = tt[~tt['worker'].isin(['login15','login9'])]['dur']\n",
    "data2 = tt[tt['worker'].isin(['login15','login9'])]['dur']\n",
    "\n",
    "stat, p = st.mannwhitneyu(data1, data2)\n",
    "print('Statistics=%.3f, p=%.3f' % (stat, p))\n",
    "# interpret\n",
    "alpha = 0.05\n",
    "if p > alpha:\n",
    "\tprint('Выборки статистически равны')\n",
    "else:\n",
    "\tprint('Нельзя утверждать, что выборки статистически равны')"
   ]
  },
  {
   "cell_type": "markdown",
   "metadata": {},
   "source": [
    "Оценка распределения длительности у каждого ассесора позволяет выделить две группы асессоров. В первой - меньшее количество выполненных заданий и присутствие выбросов, у второй, login15 и login9, - большее количество выполненных заданий без аномальных значений. Эти группы являются статистически разными.\n",
    "\n",
    "Лучшие качественные характеристики позволяют предложить в качестве бенчмарка длительности среднюю длительность второй группы. Дополнительно стоит отметить, что средняя предлагается в противовес  медиане, несмотря на значительную положительную скошенность датасета. В данной случае, на примере лидеров очевидно, что присутствует значительное количество заданий, которые требуют большей трудоёмкости, чем в среднем, соответственно, более высокая оплата будет являться справедливым и стимулирующим фактором для выполения большего объёма заданий."
   ]
  },
  {
   "cell_type": "markdown",
   "metadata": {},
   "source": [
    "## 3. Расчёт бенчмарка длительности"
   ]
  },
  {
   "cell_type": "code",
   "execution_count": 9,
   "metadata": {},
   "outputs": [
    {
     "name": "stdout",
     "output_type": "stream",
     "text": [
      "Медиана длительности для TOP-ассесоров: 2003.262341325811 сек.\n"
     ]
    }
   ],
   "source": [
    "print('Медиана длительности для TOP-ассесоров: {} сек.'\n",
    "      .format(tt[tt['worker'].isin(['login15','login9'])]['dur']\n",
    "              .mean()))"
   ]
  },
  {
   "cell_type": "markdown",
   "metadata": {},
   "source": [
    "## 4. Выводы"
   ]
  },
  {
   "cell_type": "markdown",
   "metadata": {},
   "source": [
    "В качестве нормируемой трудоёмкости предлагается 2003 секунды.\n",
    "При условии оплаты N за 30 секунд рабочего времени оплата составит **67N** за задание."
   ]
  }
 ],
 "metadata": {
  "kernelspec": {
   "display_name": "Python 3",
   "language": "python",
   "name": "python3"
  },
  "language_info": {
   "codemirror_mode": {
    "name": "ipython",
    "version": 3
   },
   "file_extension": ".py",
   "mimetype": "text/x-python",
   "name": "python",
   "nbconvert_exporter": "python",
   "pygments_lexer": "ipython3",
   "version": "3.7.6"
  }
 },
 "nbformat": 4,
 "nbformat_minor": 4
}
