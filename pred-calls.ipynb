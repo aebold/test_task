{
 "cells": [
  {
   "cell_type": "code",
   "execution_count": 1,
   "metadata": {
    "_cell_guid": "b1076dfc-b9ad-4769-8c92-a6c4dae69d19",
    "_uuid": "8f2839f25d086af736a60e9eeb907d3b93b6e0e5"
   },
   "outputs": [],
   "source": [
    "import numpy as np\n",
    "import pandas as pd\n",
    "import sqlite3"
   ]
  },
  {
   "cell_type": "code",
   "execution_count": 2,
   "metadata": {},
   "outputs": [],
   "source": [
    "conn = sqlite3.connect('/home/bold/ttask')\n",
    "cur = conn.cursor()"
   ]
  },
  {
   "cell_type": "code",
   "execution_count": 3,
   "metadata": {},
   "outputs": [],
   "source": [
    "def select(sql):\n",
    "  return pd.read_sql(sql,conn)"
   ]
  },
  {
   "cell_type": "code",
   "execution_count": 4,
   "metadata": {},
   "outputs": [],
   "source": [
    "sql = ''' SELECT SUM(CASE WHEN delta>0 THEN delta ELSE 0 END) positiv_1,\n",
    "                 SUM(CASE WHEN delta<0 THEN delta ELSE 0 END) negativ_1,\n",
    "                 SUM(CASE WHEN delta=0 THEN 1 ELSE 0 END) exactly_1\n",
    "          FROM\n",
    "                (SELECT\n",
    "                    pred_1 - fact delta\n",
    "                FROM\n",
    "                      ((SELECT\n",
    "                            strftime('%Y-%m-%d %H', start_of_hour) hour,\n",
    "                            queueid,\n",
    "                            prediction pred_1\n",
    "                        FROM prediction_1) AS p\n",
    "                        JOIN \n",
    "                        (SELECT \n",
    "                            strftime('%Y-%m-%d %H', timestamp/1000, 'unixepoch') hour_f,\n",
    "                            queueid,\n",
    "                            COUNT(new_t) fact \n",
    "                        FROM \n",
    "                            fact_incoming\n",
    "                        GROUP BY\n",
    "                            hour_f, queueid) AS f \n",
    "                        ON p.hour=f.hour_f AND p.queueid=f.queueid))''' "
   ]
  },
  {
   "cell_type": "code",
   "execution_count": 5,
   "metadata": {},
   "outputs": [
    {
     "data": {
      "text/html": [
       "<div>\n",
       "<style scoped>\n",
       "    .dataframe tbody tr th:only-of-type {\n",
       "        vertical-align: middle;\n",
       "    }\n",
       "\n",
       "    .dataframe tbody tr th {\n",
       "        vertical-align: top;\n",
       "    }\n",
       "\n",
       "    .dataframe thead th {\n",
       "        text-align: right;\n",
       "    }\n",
       "</style>\n",
       "<table border=\"1\" class=\"dataframe\">\n",
       "  <thead>\n",
       "    <tr style=\"text-align: right;\">\n",
       "      <th></th>\n",
       "      <th>positiv_1</th>\n",
       "      <th>negativ_1</th>\n",
       "      <th>exactly_1</th>\n",
       "    </tr>\n",
       "  </thead>\n",
       "  <tbody>\n",
       "    <tr>\n",
       "      <th>0</th>\n",
       "      <td>509</td>\n",
       "      <td>-103</td>\n",
       "      <td>33</td>\n",
       "    </tr>\n",
       "  </tbody>\n",
       "</table>\n",
       "</div>"
      ],
      "text/plain": [
       "   positiv_1  negativ_1  exactly_1\n",
       "0        509       -103         33"
      ]
     },
     "execution_count": 5,
     "metadata": {},
     "output_type": "execute_result"
    }
   ],
   "source": [
    "select(sql)"
   ]
  },
  {
   "cell_type": "code",
   "execution_count": 6,
   "metadata": {},
   "outputs": [
    {
     "data": {
      "text/html": [
       "<div>\n",
       "<style scoped>\n",
       "    .dataframe tbody tr th:only-of-type {\n",
       "        vertical-align: middle;\n",
       "    }\n",
       "\n",
       "    .dataframe tbody tr th {\n",
       "        vertical-align: top;\n",
       "    }\n",
       "\n",
       "    .dataframe thead th {\n",
       "        text-align: right;\n",
       "    }\n",
       "</style>\n",
       "<table border=\"1\" class=\"dataframe\">\n",
       "  <thead>\n",
       "    <tr style=\"text-align: right;\">\n",
       "      <th></th>\n",
       "      <th>positiv_2</th>\n",
       "      <th>negativ_2</th>\n",
       "      <th>exactly_2</th>\n",
       "    </tr>\n",
       "  </thead>\n",
       "  <tbody>\n",
       "    <tr>\n",
       "      <th>0</th>\n",
       "      <td>552</td>\n",
       "      <td>-153</td>\n",
       "      <td>33</td>\n",
       "    </tr>\n",
       "  </tbody>\n",
       "</table>\n",
       "</div>"
      ],
      "text/plain": [
       "   positiv_2  negativ_2  exactly_2\n",
       "0        552       -153         33"
      ]
     },
     "execution_count": 6,
     "metadata": {},
     "output_type": "execute_result"
    }
   ],
   "source": [
    "sql = ''' SELECT SUM(CASE WHEN delta>0 THEN delta ELSE 0 END) positiv_2,\n",
    "                 SUM(CASE WHEN delta<0 THEN delta ELSE 0 END) negativ_2,\n",
    "                 SUM(CASE WHEN delta=0 THEN 1 ELSE 0 END) exactly_2\n",
    "          FROM\n",
    "                (SELECT\n",
    "                    pred_2 - fact delta\n",
    "                FROM\n",
    "                      ((SELECT\n",
    "                            strftime('%Y-%m-%d %H', start_of_hour) hour,\n",
    "                            queueid,\n",
    "                            prediction pred_2\n",
    "                        FROM prediction_2) AS p\n",
    "                        JOIN \n",
    "                        (SELECT \n",
    "                            strftime('%Y-%m-%d %H', timestamp/1000, 'unixepoch') hour_f,\n",
    "                            queueid,\n",
    "                            COUNT(new_t) fact \n",
    "                        FROM \n",
    "                            fact_incoming\n",
    "                        GROUP BY\n",
    "                            hour_f, queueid) AS f \n",
    "                        ON p.hour=f.hour_f AND p.queueid=f.queueid))''' \n",
    "select(sql)"
   ]
  }
 ],
 "metadata": {
  "kernelspec": {
   "display_name": "Python 3",
   "language": "python",
   "name": "python3"
  },
  "language_info": {
   "codemirror_mode": {
    "name": "ipython",
    "version": 3
   },
   "file_extension": ".py",
   "mimetype": "text/x-python",
   "name": "python",
   "nbconvert_exporter": "python",
   "pygments_lexer": "ipython3",
   "version": "3.7.6"
  }
 },
 "nbformat": 4,
 "nbformat_minor": 4
}
